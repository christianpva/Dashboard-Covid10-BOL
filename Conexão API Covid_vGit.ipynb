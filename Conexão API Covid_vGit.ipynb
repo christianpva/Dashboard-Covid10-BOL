{
 "cells": [
  {
   "cell_type": "code",
   "execution_count": 1,
   "metadata": {},
   "outputs": [],
   "source": [
    "import numpy as np \n",
    "import pandas as pd\n",
    "import matplotlib.pyplot as plt\n",
    "import requests\n",
    "\n"
   ]
  },
  {
   "cell_type": "code",
   "execution_count": 2,
   "metadata": {},
   "outputs": [],
   "source": [
    "def getStats(country):\n",
    "  api_url = 'https://api.smartable.ai/coronavirus/stats/'+country\n",
    "  api_params = {\n",
    "    'Cache-Control': 'no-cache',\n",
    "    'Subscription-Key': 'XXXXXXXXXX',\n",
    "  }\n",
    "  r = requests.get(url=api_url, params=api_params) \n",
    "  return r.text"
   ]
  },
  {
   "cell_type": "code",
   "execution_count": 3,
   "metadata": {},
   "outputs": [],
   "source": [
    "data = getStats(\"BO\")\n"
   ]
  },
  {
   "cell_type": "code",
   "execution_count": 4,
   "metadata": {},
   "outputs": [
    {
     "data": {
      "text/plain": [
       "dict_keys(['location', 'updatedDateTime', 'stats'])"
      ]
     },
     "execution_count": 4,
     "metadata": {},
     "output_type": "execute_result"
    }
   ],
   "source": [
    "import json\n",
    "jsonData = json.loads(data)\n",
    "jsonData.keys() "
   ]
  },
  {
   "cell_type": "code",
   "execution_count": 5,
   "metadata": {},
   "outputs": [
    {
     "data": {
      "text/plain": [
       "'Bolivia'"
      ]
     },
     "execution_count": 5,
     "metadata": {},
     "output_type": "execute_result"
    }
   ],
   "source": [
    "country = jsonData['location']['countryOrRegion']\n",
    "country"
   ]
  },
  {
   "cell_type": "code",
   "execution_count": 8,
   "metadata": {},
   "outputs": [
    {
     "data": {
      "text/plain": [
       "'2020-06-10T21:45:27.2799806Z'"
      ]
     },
     "execution_count": 8,
     "metadata": {},
     "output_type": "execute_result"
    }
   ],
   "source": [
    "jsonData['updatedDateTime']"
   ]
  },
  {
   "cell_type": "code",
   "execution_count": 10,
   "metadata": {},
   "outputs": [
    {
     "data": {
      "text/plain": [
       "{'location': {'long': -63.5887,\n",
       "  'countryOrRegion': 'Bolivia',\n",
       "  'provinceOrState': None,\n",
       "  'county': None,\n",
       "  'isoCode': 'BO',\n",
       "  'lat': -16.2902},\n",
       " 'totalConfirmedCases': 14644,\n",
       " 'newlyConfirmedCases': 0,\n",
       " 'totalDeaths': 487,\n",
       " 'newDeaths': 0,\n",
       " 'totalRecoveredCases': 2190,\n",
       " 'newlyRecoveredCases': 0}"
      ]
     },
     "execution_count": 10,
     "metadata": {},
     "output_type": "execute_result"
    }
   ],
   "source": [
    "jsonData['stats']['breakdowns']\n",
    "latestData = jsonData['stats']['breakdowns'][0]\n",
    "latestData['newDeaths']\n",
    "latestData"
   ]
  },
  {
   "cell_type": "code",
   "execution_count": null,
   "metadata": {},
   "outputs": [],
   "source": [
    "history = pd.DataFrame(jsonData['stats']['history'])\n",
    "history['date']=pd.to_datetime(history['date'])\n",
    "history"
   ]
  },
  {
   "cell_type": "code",
   "execution_count": null,
   "metadata": {},
   "outputs": [],
   "source": [
    "history.plot(figsize=(10,5), x='date', title=country)"
   ]
  },
  {
   "cell_type": "code",
   "execution_count": null,
   "metadata": {},
   "outputs": [],
   "source": [
    "history['ddeaths']=history['deaths'].pct_change()*100\n",
    "partialhistory = history[69:139]\n",
    "partialhistory.plot(x='date',y='ddeaths',figsize=(10,5))"
   ]
  },
  {
   "cell_type": "code",
   "execution_count": null,
   "metadata": {},
   "outputs": [],
   "source": []
  }
 ],
 "metadata": {
  "kernelspec": {
   "display_name": "Python 3",
   "language": "python",
   "name": "python3"
  },
  "language_info": {
   "codemirror_mode": {
    "name": "ipython",
    "version": 3
   },
   "file_extension": ".py",
   "mimetype": "text/x-python",
   "name": "python",
   "nbconvert_exporter": "python",
   "pygments_lexer": "ipython3",
   "version": "3.7.6"
  }
 },
 "nbformat": 4,
 "nbformat_minor": 4
}
